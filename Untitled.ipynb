{
 "cells": [
  {
   "cell_type": "code",
   "execution_count": 2,
   "metadata": {},
   "outputs": [],
   "source": [
    "api_key = \"74eb8aceca7f9978a43e9d1e65511385\""
   ]
  },
  {
   "cell_type": "code",
   "execution_count": 3,
   "metadata": {},
   "outputs": [],
   "source": [
    "import requests"
   ]
  },
  {
   "cell_type": "code",
   "execution_count": 6,
   "metadata": {},
   "outputs": [
    {
     "data": {
      "text/plain": [
       "{'flag': True,\n",
       " 'message': 'GSTIN  found.',\n",
       " 'data': {'frequencyType': None,\n",
       "  'adadr': [],\n",
       "  'dty': 'Regular',\n",
       "  'sts': 'Active',\n",
       "  'rgdt': '01/07/2017',\n",
       "  'lgnm': 'DEVI GEMS',\n",
       "  'tradeNam': 'DEVI GEMS',\n",
       "  'nba': ['Office / Sale Office', 'Wholesale Business', 'Retail Business'],\n",
       "  'ctj': 'RANGE-I',\n",
       "  'gstin': '27AACFD0080D1Z1',\n",
       "  'errorMsg': None,\n",
       "  'cxdt': '',\n",
       "  'ctjCd': 'VN0401',\n",
       "  'stjCd': 'MHCG0504',\n",
       "  'ctb': 'Partnership',\n",
       "  'lstupdt': '29/Mar/2021',\n",
       "  'pradr': {'addr': {'loc': 'MUMBAI',\n",
       "    'dst': 'Mumbai City',\n",
       "    'lg': '',\n",
       "    'bno': '27',\n",
       "    'lt': '',\n",
       "    'st': 'TATA ROAD NO 1',\n",
       "    'pncd': '400004',\n",
       "    'flno': '2ND FLOOR',\n",
       "    'city': '',\n",
       "    'stcd': 'Maharashtra',\n",
       "    'bnm': 'SHREEJI PLAZA'},\n",
       "   'ntr': 'Office / Sale Office, Wholesale Business, Retail Business'},\n",
       "  'stj': 'GIRGAON_705'}}"
      ]
     },
     "execution_count": 6,
     "metadata": {},
     "output_type": "execute_result"
    }
   ],
   "source": [
    "data = requests.get(\n",
    "    f\"https://sheet.gstincheck.ml/check/74eb8aceca7f9978a43e9d1e65511385/27AACFD0080D1Z1\").json()\n",
    "data"
   ]
  },
  {
   "cell_type": "code",
   "execution_count": 5,
   "metadata": {},
   "outputs": [
    {
     "data": {
      "text/plain": [
       "{'flag': True,\n",
       " 'message': 'GSTIN  found.',\n",
       " 'data': {'frequencyType': None,\n",
       "  'adadr': [],\n",
       "  'dty': 'Regular',\n",
       "  'sts': 'Active',\n",
       "  'rgdt': '26/10/2017',\n",
       "  'lgnm': 'HIDAYATULLAH ABRARUL HASAN KHAN',\n",
       "  'tradeNam': 'MODERN INTERIOR',\n",
       "  'nba': ['Supplier of Services', 'Others'],\n",
       "  'ctj': 'RANGE-II',\n",
       "  'gstin': '27ATQPK9035Q1ZO',\n",
       "  'errorMsg': None,\n",
       "  'cxdt': '',\n",
       "  'ctjCd': 'VM0202',\n",
       "  'stjCd': 'MHCG0245',\n",
       "  'ctb': 'Proprietorship',\n",
       "  'lstupdt': '13/Mar/2021',\n",
       "  'pradr': {'addr': {'loc': 'KURLA WEST',\n",
       "    'dst': 'Mumbai Suburban',\n",
       "    'lg': '',\n",
       "    'bno': 'STEEL CHAWL',\n",
       "    'lt': '',\n",
       "    'st': 'OPP MUN TOILET BLOCK',\n",
       "    'pncd': '400070',\n",
       "    'flno': '',\n",
       "    'city': '',\n",
       "    'stcd': 'Maharashtra',\n",
       "    'bnm': 'MAHATAMA GANDHI NAGAR'},\n",
       "   'ntr': 'Supplier of Services, Others'},\n",
       "  'stj': 'KURLA_702'}}"
      ]
     },
     "execution_count": 5,
     "metadata": {},
     "output_type": "execute_result"
    }
   ],
   "source": [
    "data = requests.get(\n",
    "    f\"https://sheet.gstincheck.ml/check/74eb8aceca7f9978a43e9d1e65511385/27ATQPK9035Q1ZO\").json()\n",
    "data"
   ]
  },
  {
   "cell_type": "code",
   "execution_count": null,
   "metadata": {},
   "outputs": [],
   "source": []
  }
 ],
 "metadata": {
  "kernelspec": {
   "display_name": "Python 3",
   "language": "python",
   "name": "python3"
  },
  "language_info": {
   "codemirror_mode": {
    "name": "ipython",
    "version": 3
   },
   "file_extension": ".py",
   "mimetype": "text/x-python",
   "name": "python",
   "nbconvert_exporter": "python",
   "pygments_lexer": "ipython3",
   "version": "3.8.5"
  }
 },
 "nbformat": 4,
 "nbformat_minor": 4
}
